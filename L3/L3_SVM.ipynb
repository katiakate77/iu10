{
 "cells": [
  {
   "cell_type": "markdown",
   "metadata": {},
   "source": [
    "# Метод опорных векторов (SVM - support vector machine) на текстах\n",
    "Импортируем всё, что пригодится:"
   ]
  },
  {
   "cell_type": "code",
   "execution_count": 31,
   "metadata": {
    "collapsed": true
   },
   "outputs": [],
   "source": [
    "import pandas\n",
    "from sklearn.datasets import fetch_20newsgroups\n",
    "from sklearn.feature_extraction.text import TfidfVectorizer\n",
    "from sklearn.svm import SVC\n",
    "from sklearn.model_selection import KFold, cross_val_score, GridSearchCV\n",
    "from matplotlib import pyplot as plt\n",
    "%matplotlib inline"
   ]
  },
  {
   "cell_type": "markdown",
   "metadata": {},
   "source": [
    "В pandas есть дефолтный метод, который подгружает тексты новостей - fetch_20newsgroups. Загрузите новости в переменную data. (Чтобы загрузить все новости, нужно передать в функцию параметр subset='all'.)"
   ]
  },
  {
   "cell_type": "code",
   "execution_count": null,
   "metadata": {
    "collapsed": true
   },
   "outputs": [],
   "source": []
  },
  {
   "cell_type": "markdown",
   "metadata": {},
   "source": [
    "Тип нашей переменной - класс Bunch. Посмотрим, что с ним можно делать:"
   ]
  },
  {
   "cell_type": "code",
   "execution_count": 77,
   "metadata": {
    "collapsed": true
   },
   "outputs": [],
   "source": [
    "dir(data)"
   ]
  },
  {
   "cell_type": "markdown",
   "metadata": {},
   "source": [
    "<ul>\n",
    "  <li>data - это тексты (т.е. наши признаки, вектор Х)</li>\n",
    "  <li>target - это номера категорий текстов (т.е. значения целевой переменной у)</li>\n",
    "  <li>target_names - это список названий категорий\n",
    "</ul>\n",
    "Посмотрим, какие категории у нас есть в этом датасете:"
   ]
  },
  {
   "cell_type": "code",
   "execution_count": 76,
   "metadata": {
    "collapsed": true
   },
   "outputs": [],
   "source": [
    "data.target_names"
   ]
  },
  {
   "cell_type": "markdown",
   "metadata": {
    "collapsed": true
   },
   "source": [
    "Чтобы понять, что есть что, посмотрим на data и target:"
   ]
  },
  {
   "cell_type": "code",
   "execution_count": 75,
   "metadata": {
    "collapsed": true
   },
   "outputs": [],
   "source": [
    "data.data[0]"
   ]
  },
  {
   "cell_type": "code",
   "execution_count": 74,
   "metadata": {
    "collapsed": true
   },
   "outputs": [],
   "source": [
    "data.target[0], data.target_names[data.target[0]]"
   ]
  },
  {
   "cell_type": "markdown",
   "metadata": {},
   "source": [
    "Пора создать выборку для бинарной классификации. Для этого в параметре categories нужно передать список из двух любых категорий, которые вам интересны."
   ]
  },
  {
   "cell_type": "code",
   "execution_count": 73,
   "metadata": {
    "collapsed": true
   },
   "outputs": [],
   "source": [
    "data = "
   ]
  },
  {
   "cell_type": "markdown",
   "metadata": {},
   "source": [
    "Введите переменную X, в которую запишите посчитанные TF-IDF-признаки для всех текстов.\n",
    "\n",
    "Для преобразования данных в sklearn есть ряд классов-\"преобразователей\". Алгоритм работы с ними похож на обучение и предсказание классификаторов, только преобразователь нужно прежде \"обучить\" (fit), а потом преобразовать данные методом transform. Оба эти метода на вход принимают набор данных, которые нужно преобразовать.\n",
    "\n",
    "Для того, чтобы выполнить преобразование TF-IDF, воспользуйтесь классом TfidVectorizer (http://scikit-learn.org/stable/modules/generated/sklearn.feature_extraction.text.TfidfVectorizer.html)."
   ]
  },
  {
   "cell_type": "code",
   "execution_count": 71,
   "metadata": {
    "collapsed": true
   },
   "outputs": [],
   "source": [
    "vectorizer = \n",
    "X = "
   ]
  },
  {
   "cell_type": "markdown",
   "metadata": {},
   "source": [
    "В переменную y запишите классы ответов из исходной выборки."
   ]
  },
  {
   "cell_type": "code",
   "execution_count": null,
   "metadata": {
    "collapsed": true
   },
   "outputs": [],
   "source": []
  },
  {
   "cell_type": "markdown",
   "metadata": {},
   "source": [
    "Для метода опорных векторов тоже требуется регуляризация. Подберите минимальный лучший параметр регуляризации C из множества [10^−5, 10^−4, ... 10^4, 10^5] для SVM с линейным ядром при помощи кросс-валидации (KFold) по 6 блокам. Укажите параметр random_state=вашему варианту и для SVM, и для KFold. У KFold еще укажите параметр shuffle=True, который перед работой рандомно перемешает выборку. Мера качества - accuracy. Постройте график accuracy от C.\n",
    "\n",
    "Инициализация SVM-классификатора: SVC(kernel='linear', C=..., random_state=...)\n",
    "\n",
    "Как работать с KFold и как строить график, можно подглядеть в предыдущей лабе.\n",
    "\n",
    "Полезные ссылки:<ul>\n",
    "<li>http://scikit-learn.org/stable/modules/generated/sklearn.svm.SVC.html</li>\n",
    "<li>http://scikit-learn.org/stable/modules/generated/sklearn.model_selection.KFold.html</li>\n",
    "<li>http://scikit-learn.org/stable/modules/generated/sklearn.model_selection.GridSearchCV.html</li>\n",
    "</ul>"
   ]
  },
  {
   "cell_type": "code",
   "execution_count": null,
   "metadata": {
    "collapsed": true
   },
   "outputs": [],
   "source": []
  },
  {
   "cell_type": "markdown",
   "metadata": {},
   "source": [
    "Обучите классификатор с лучшим параметром C."
   ]
  },
  {
   "cell_type": "code",
   "execution_count": null,
   "metadata": {
    "collapsed": true
   },
   "outputs": [],
   "source": []
  },
  {
   "cell_type": "markdown",
   "metadata": {},
   "source": [
    "Выделим несколько самых характерных для этой темы слов. Вбейте их в гугл и сравните выбранную тему с темой первой попавшейся статьи."
   ]
  },
  {
   "cell_type": "code",
   "execution_count": 69,
   "metadata": {
    "collapsed": true
   },
   "outputs": [],
   "source": [
    "iis = pandas.DataFrame(clf.coef_.data, clf.coef_.indices).sort_values(by=0, ascending=False)\n",
    "names = vectorizer.get_feature_names()\n",
    "[names[i] for i in iis.index[:6]]"
   ]
  },
  {
   "cell_type": "markdown",
   "metadata": {},
   "source": [
    "А теперь найдите любую статью по выбранной теме (на английском языке) и скопируйте ее текст в файл article.txt в папке с данным блокнотом. Что предскажет классификатор относительно тематики этой статьи? Прав ли он оказался?"
   ]
  },
  {
   "cell_type": "code",
   "execution_count": 70,
   "metadata": {
    "collapsed": true
   },
   "outputs": [],
   "source": [
    "with open('article.txt') as article:\n",
    "    # наша статья записана в переменную article. Проведите TF-IDF-преобразование и сделайте предсказание о теме.\n",
    "    # Название темы можно взять по индексу в data.target_names. Помните, что predict выдает ndarray, поэтому значение\n",
    "    # нашего единственного предсказание можно получить по индексу 0.\n",
    "    "
   ]
  }
 ],
 "metadata": {
  "kernelspec": {
   "display_name": "Python 3",
   "language": "python",
   "name": "python3"
  },
  "language_info": {
   "codemirror_mode": {
    "name": "ipython",
    "version": 3
   },
   "file_extension": ".py",
   "mimetype": "text/x-python",
   "name": "python",
   "nbconvert_exporter": "python",
   "pygments_lexer": "ipython3",
   "version": "3.6.1"
  }
 },
 "nbformat": 4,
 "nbformat_minor": 2
}
