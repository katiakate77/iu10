{
 "cells": [
  {
   "cell_type": "markdown",
   "metadata": {},
   "source": [
    "# Задание 1\n",
    "\n",
    "Немного соли нам на раны =). В словаре ниже представлена средняя зарплата спеца по ЗИ за последние месяцы (http://russia.trud.com/salary/692/67681.html). Известно, что за июль средняя зарплата за июль - 22500, а за август - 24088 рублей. Добавьте их в словарь."
   ]
  },
  {
   "cell_type": "code",
   "execution_count": 2,
   "metadata": {},
   "outputs": [],
   "source": [
    "salary = {\n",
    "    'Январь': 20000,\n",
    "    'Март': 18500,\n",
    "    'Апрель': 22500,\n",
    "    'Май': 21000,\n",
    "    'Июнь': 22000,\n",
    "}\n",
    "\n",
    "# код дописывать сюда\n"
   ]
  },
  {
   "cell_type": "markdown",
   "metadata": {},
   "source": [
    "Напишите функцию, которая принимает на вход словарь и возвращает список месяцев, для которых у нас есть значение зарплаты."
   ]
  },
  {
   "cell_type": "code",
   "execution_count": null,
   "metadata": {
    "collapsed": true
   },
   "outputs": [],
   "source": [
    "def months(d):\n",
    "    # месяцы - это ключи словаря\n",
    "    mon = # дописать\n",
    "    return mon"
   ]
  },
  {
   "cell_type": "markdown",
   "metadata": {},
   "source": [
    "Проверим правильность работы функции, вызвав ее для нашего словаря:"
   ]
  },
  {
   "cell_type": "code",
   "execution_count": null,
   "metadata": {
    "collapsed": true
   },
   "outputs": [],
   "source": [
    "print(month(salary))"
   ]
  },
  {
   "cell_type": "markdown",
   "metadata": {},
   "source": [
    "Теперь давайте посчитаем среднее значение зарплаты за все эти месяцы. Для этого также напишите функцию, которая принимает словарь, а возвращает число."
   ]
  },
  {
   "cell_type": "code",
   "execution_count": null,
   "metadata": {
    "collapsed": true
   },
   "outputs": [],
   "source": [
    "# место для твоей функции!\n"
   ]
  },
  {
   "cell_type": "markdown",
   "metadata": {},
   "source": [
    "Вызовем функцию для нашего словаря и выведем на экран результат."
   ]
  },
  {
   "cell_type": "code",
   "execution_count": null,
   "metadata": {
    "collapsed": true
   },
   "outputs": [],
   "source": [
    "# твой код здесь"
   ]
  },
  {
   "cell_type": "markdown",
   "metadata": {},
   "source": [
    "Теперь создадим аналогичный словарь с зарплатами работников смежной области. Значения возьмем, например, отсюда: https://career.ru/employer/27879."
   ]
  },
  {
   "cell_type": "code",
   "execution_count": null,
   "metadata": {
    "collapsed": true
   },
   "outputs": [],
   "source": [
    "teremok = {\n",
    "    # зарплату класть сюда\n",
    "}"
   ]
  },
  {
   "cell_type": "markdown",
   "metadata": {},
   "source": [
    "Выведем среднюю зарплату работников этой отрасли, используя функцию, написанную раньше."
   ]
  },
  {
   "cell_type": "code",
   "execution_count": null,
   "metadata": {
    "collapsed": true
   },
   "outputs": [],
   "source": [
    "# print ....\n"
   ]
  },
  {
   "cell_type": "markdown",
   "metadata": {},
   "source": [
    "И наконец пора узнать, ошиблись ли мы в выборе профессии. Введем новые переменные, которым присвоим результаты выполнения функции для обоих словарей. Выведем на экран отношение средней зарплаты работников Теремка к средней зарплате ЗИшников."
   ]
  },
  {
   "cell_type": "code",
   "execution_count": null,
   "metadata": {
    "collapsed": true
   },
   "outputs": [],
   "source": [
    "teremok_mean_salary =        # вызовем функцию для теремковского словаря\n",
    "zi_mean_salary =             # и для ЗИ\n",
    "\n",
    "profit =                     # разделим одно на другое\n",
    "print(profit) # и выведем"
   ]
  }
 ],
 "metadata": {
  "kernelspec": {
   "display_name": "Python 3",
   "language": "python",
   "name": "python3"
  },
  "language_info": {
   "codemirror_mode": {
    "name": "ipython",
    "version": 3
   },
   "file_extension": ".py",
   "mimetype": "text/x-python",
   "name": "python",
   "nbconvert_exporter": "python",
   "pygments_lexer": "ipython3",
   "version": "3.6.1"
  }
 },
 "nbformat": 4,
 "nbformat_minor": 2
}
