{
 "cells": [
  {
   "cell_type": "markdown",
   "metadata": {},
   "source": [
    "# Задание 2\n",
    "### Обработка данных\n",
    "\n",
    "Для начала импортируйте библиотеку pandas и загрузите данные из файла titanic.csv. Это список пассажиров Титаника, где указаны их данные и то, выжили ли они после кораблекрушения."
   ]
  },
  {
   "cell_type": "code",
   "execution_count": null,
   "metadata": {
    "collapsed": true
   },
   "outputs": [],
   "source": [
    "# код здесь\n",
    "\n",
    "data = "
   ]
  },
  {
   "cell_type": "markdown",
   "metadata": {},
   "source": [
    "Посмотрим структуру данных с помощью метода head:"
   ]
  },
  {
   "cell_type": "code",
   "execution_count": null,
   "metadata": {
    "collapsed": true
   },
   "outputs": [],
   "source": [
    "# код"
   ]
  },
  {
   "cell_type": "markdown",
   "metadata": {},
   "source": [
    "В столбце Pclass указан класс, в котором путешествовал пассажир. Сколько пассажиров было в первом классе? Во сколько раз их меньше, чем пассажиров третьего класса?"
   ]
  },
  {
   "cell_type": "code",
   "execution_count": 1,
   "metadata": {
    "collapsed": true
   },
   "outputs": [],
   "source": [
    "# код"
   ]
  },
  {
   "cell_type": "markdown",
   "metadata": {},
   "source": [
    "Сколько процентов пассажиров выжило?"
   ]
  },
  {
   "cell_type": "code",
   "execution_count": 1,
   "metadata": {
    "collapsed": true
   },
   "outputs": [],
   "source": [
    "# код"
   ]
  },
  {
   "cell_type": "markdown",
   "metadata": {},
   "source": [
    "Кого на корабле было больше: мужчин или женщин?"
   ]
  },
  {
   "cell_type": "code",
   "execution_count": 2,
   "metadata": {
    "collapsed": true
   },
   "outputs": [],
   "source": [
    "# код"
   ]
  },
  {
   "cell_type": "markdown",
   "metadata": {},
   "source": [
    "Посчитайте средний и медианный возраст пассажиров. Сравните их со средним и медианным возрастом выживших пассажиров."
   ]
  },
  {
   "cell_type": "code",
   "execution_count": 3,
   "metadata": {
    "collapsed": true
   },
   "outputs": [],
   "source": [
    "# код"
   ]
  },
  {
   "cell_type": "markdown",
   "metadata": {},
   "source": [
    "В нашей таблице есть столбец SibSp - это число братьев/сестер/супругов человека. Также в столбце Parch записано количество родителей/детей. Посмотрим, как коррелируют эти величины."
   ]
  },
  {
   "cell_type": "code",
   "execution_count": 8,
   "metadata": {},
   "outputs": [],
   "source": [
    "# Выделим из общих данных эти два столбца:\n",
    "correlation_data = # код\n",
    "# Теперь построим матрицу корреляции:\n",
    "correlation_data.corr()\n",
    "# Насколько сильно коррелируют признаки? Ответ запишите здесь же в комментарии."
   ]
  },
  {
   "cell_type": "markdown",
   "metadata": {},
   "source": [
    "Какое самое популярное женское имя на корабле? Обратите внимание, формат записи имен различается, поэтому нужно предварительно выделить из записи само имя."
   ]
  },
  {
   "cell_type": "code",
   "execution_count": null,
   "metadata": {
    "collapsed": true
   },
   "outputs": [],
   "source": [
    "# Удобней написать функцию, которая из входной строки выбирает имя:\n",
    "def get_name(s):\n",
    "    # ваш код\n",
    "\n",
    "    \n",
    "    \n",
    "# Создадим список, в который будем складывать полученные имена.\n",
    "names = []\n",
    "for # ... Здесь надо пройтись по датафрейму. Не забудьте, что анализировать нужно только женские имена.\n",
    "    # ... код\n",
    "    name.extend(get_name(...))\n",
    "\n",
    "    \n",
    "    \n",
    "# Теперь нужно найти самое распространенное в списке значение. Для этого можно пройтись циклом по\n",
    "# элементам списка, вызывая метод count у списка со значением текущего элемента.\n",
    "\n",
    "# код здесь"
   ]
  }
 ],
 "metadata": {
  "kernelspec": {
   "display_name": "Python 3",
   "language": "python",
   "name": "python3"
  },
  "language_info": {
   "codemirror_mode": {
    "name": "ipython",
    "version": 3
   },
   "file_extension": ".py",
   "mimetype": "text/x-python",
   "name": "python",
   "nbconvert_exporter": "python",
   "pygments_lexer": "ipython3",
   "version": "3.6.1"
  }
 },
 "nbformat": 4,
 "nbformat_minor": 2
}
