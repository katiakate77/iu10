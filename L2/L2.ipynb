{
 "cells": [
  {
   "cell_type": "markdown",
   "metadata": {},
   "source": [
    "# Деревья решений\n",
    "\n",
    "Импортируйте необходимые библиотеки и классы. Нам понадобятся pandas, а также DecisionTreeClassifier из пакета sklearn.tree"
   ]
  },
  {
   "cell_type": "code",
   "execution_count": 1,
   "metadata": {
    "collapsed": true
   },
   "outputs": [],
   "source": [
    "# import ...\n"
   ]
  },
  {
   "cell_type": "markdown",
   "metadata": {},
   "source": [
    "Будем обучать дерево на датасете из предыдущей лекции. Напомню, там была статистика сердечно-сосудистых заболеваний на фоне различных параметров людей (подробнее о датасете - https://mlbootcamp.ru/round/12/sandbox/). Считайте данные из файла cardio.csv в переменную data. В функцию read_data передайте еще эти два параметра: index_col='id', sep=';'"
   ]
  },
  {
   "cell_type": "code",
   "execution_count": 2,
   "metadata": {
    "collapsed": true
   },
   "outputs": [],
   "source": [
    "# код\n"
   ]
  },
  {
   "cell_type": "code",
   "execution_count": null,
   "metadata": {
    "collapsed": true
   },
   "outputs": [],
   "source": [
    "data.head()"
   ]
  },
  {
   "cell_type": "markdown",
   "metadata": {},
   "source": [
    "Возраст людей в этом наборе данных указан в днях. Переведите значения признака 'age' из дней в года."
   ]
  },
  {
   "cell_type": "code",
   "execution_count": 3,
   "metadata": {
    "collapsed": true
   },
   "outputs": [],
   "source": [
    "# можно почитать про метод apply\n",
    "# (https://pandas.pydata.org/pandas-docs/stable/generated/pandas.Series.apply.html),\n",
    "# а можно пройтись циклом по набору данных (см. циклы по итерируемому объекту в первой презентации, iloc)\n"
   ]
  },
  {
   "cell_type": "markdown",
   "metadata": {},
   "source": [
    "Обратите внимание на признаки cholesterol (уровень холестерина) и gluc (уровень глюкозы в крови): они категориальные. Решающее дерево плохо работает с такими признаками, поскольку неизвестно, насколько сильно объекты из одной категории отличаются от объектов из других категорий - мы знаем только тот факт, что они различны, но не численные параметры. Построим по три бинарных признака, которые обозначат принадлежность человека к той или иной категории этих признаков."
   ]
  },
  {
   "cell_type": "code",
   "execution_count": null,
   "metadata": {
    "collapsed": true
   },
   "outputs": [],
   "source": [
    "# посмотрим на текущий формат датасета\n",
    "data.head()"
   ]
  },
  {
   "cell_type": "code",
   "execution_count": null,
   "metadata": {
    "collapsed": true
   },
   "outputs": [],
   "source": [
    "data = pandas.get_dummies(data=data, columns=['cholesterol', 'gluc'])\n",
    "# и на то, как он выглядит после преобразования\n",
    "data.head()"
   ]
  },
  {
   "cell_type": "markdown",
   "metadata": {},
   "source": [
    "Разобьем нашу выборку на тренировочную и отложенную. Целевая переменная хранится в колонке cardio."
   ]
  },
  {
   "cell_type": "code",
   "execution_count": 9,
   "metadata": {
    "collapsed": true
   },
   "outputs": [],
   "source": [
    "from sklearn.model_selection import train_test_split\n",
    "X_train, X_test, y_train, y_test = train_test_split(data.loc[:, data.columns!='cardio'], data['cardio'])"
   ]
  },
  {
   "cell_type": "markdown",
   "metadata": {},
   "source": [
    "Создайте объект решающего дерева с параметром random_state, равным вашему номеру в списке группы, и максимальной глубиной построения дерева, равной 3, и обучите его на тестовых данных."
   ]
  },
  {
   "cell_type": "code",
   "execution_count": null,
   "metadata": {
    "collapsed": true
   },
   "outputs": [],
   "source": [
    "tree = # ...\n",
    "       # fit"
   ]
  },
  {
   "cell_type": "markdown",
   "metadata": {},
   "source": [
    "Код в следующей ячейке отрисовывает дерево, но нам нет смысла в него сейчас углубляться. Для его выполнения потребуется интернет и немного терпения: нам нужно скачать дополнительные модули. Если у вас Windows, перед запуском следующей ячейки нужно установить вот эту прогу: http://www.graphviz.org/Download_windows.php"
   ]
  },
  {
   "cell_type": "code",
   "execution_count": null,
   "metadata": {
    "collapsed": true
   },
   "outputs": [],
   "source": [
    "# установка модулей\n",
    "import os\n",
    "if os.name == 'mac':\n",
    "    !xcode-select --install\n",
    "    !/usr/bin/ruby -e \"$(curl -fsSL https://raw.githubusercontent.com/Homebrew/install/master/install)\"\n",
    "    !brew install graphviz\n",
    "\n",
    "!conda install -y graphviz\n",
    "if os.name == 'nt':\n",
    "    os.environ['PATH'] += os.pathsep + 'C:/Program Files (x86)/Graphviz2.38/bin'\n",
    "\n",
    "!conda install -y pydotplus\n",
    "\n",
    "from sklearn.tree import export_graphviz\n",
    "from IPython.display import Image\n",
    "import pydotplus\n",
    "\n",
    "export_graphviz(tree, feature_names=X_train.columns, out_file='tree.dot', filled=True)\n",
    "graph = pydotplus.graph_from_dot_file('tree.dot')\n",
    "graph.write_png('tree.png')\n",
    "Image(filename='tree.png')"
   ]
  },
  {
   "cell_type": "markdown",
   "metadata": {},
   "source": [
    "Какие признаки самые значимые в этой выборке?"
   ]
  },
  {
   "cell_type": "code",
   "execution_count": null,
   "metadata": {
    "collapsed": true
   },
   "outputs": [],
   "source": [
    "#"
   ]
  },
  {
   "cell_type": "markdown",
   "metadata": {},
   "source": [
    "Перебором параметра max_depth получите максимальное значение score для нашей выборки. Можно использовать GridSearchCV (http://scikit-learn.org/stable/modules/generated/sklearn.model_selection.GridSearchCV.html) либо дописать код в следующей ячейке:"
   ]
  },
  {
   "cell_type": "code",
   "execution_count": null,
   "metadata": {
    "collapsed": true
   },
   "outputs": [],
   "source": [
    "depths = list(range(2, 12)) # список значений максимальной глубины\n",
    "scores = []\n",
    "for depth in depths:\n",
    "    # Здесь нужно добавлять каждое значение score в список scores,\n",
    "    # чтобы потом можно было вывести график\n",
    "    \n",
    "\n",
    "    \n",
    "# при какой глубине дерева получается максимальное значение score?\n",
    "# Чему равно максимальное score?\n"
   ]
  },
  {
   "cell_type": "markdown",
   "metadata": {},
   "source": [
    "Построим график, отображающий зависимость score от max_depth:"
   ]
  },
  {
   "cell_type": "code",
   "execution_count": null,
   "metadata": {
    "collapsed": true
   },
   "outputs": [],
   "source": [
    "from matplotlib import pyplot as plt\n",
    "%matplotlib inline\n",
    "plt.plot(depths, scores)"
   ]
  },
  {
   "cell_type": "markdown",
   "metadata": {},
   "source": [
    "# Случайный лес\n",
    "\n",
    "Теперь обучим на тех же данных случайный лес. Класс RandomForestClassifier находится в модуле sklearn.ensemble. Импортируйте его и создайте новый объект леса. Параметр random_state у леса приравняйте к вашему варианту, глубину построения деревьев укажите равной наиболее оптимальной глубине из пункта про дерево."
   ]
  },
  {
   "cell_type": "code",
   "execution_count": null,
   "metadata": {
    "collapsed": true
   },
   "outputs": [],
   "source": [
    "# import ...\n",
    "\n",
    "# создаем лес:\n",
    "forest = \n",
    "\n",
    "# обучите лес на X_train, y_train\n",
    "\n",
    "# насколько точными получились предсказания леса?"
   ]
  },
  {
   "cell_type": "markdown",
   "metadata": {},
   "source": [
    "Подберем наилучшие параметры для нашего леса. Будем варьировать n_estimators - это количество деревьев в лесу. Глубина построения - лучшая из предыдущего задания, random_state по варианту."
   ]
  },
  {
   "cell_type": "code",
   "execution_count": null,
   "metadata": {
    "collapsed": true
   },
   "outputs": [],
   "source": [
    "estimators = list(range(1, 101)) # список значений количества деревьев\n",
    "forest_scores = []\n",
    "for n in estimators:\n",
    "    # Здесь нужно добавлять каждое значение score в список forest_scores,\n",
    "    # чтобы потом можно было вывести график\n",
    "    \n",
    "\n",
    "    \n",
    "# при каком количестве деревьев получается максимальное значение score?\n",
    "# Чему равно максимальное score? Результат получился лучше, чем у одиночного дерева?\n"
   ]
  },
  {
   "cell_type": "markdown",
   "metadata": {},
   "source": [
    "Построим график зависимости качества работы нашего леса от количества деревьев."
   ]
  },
  {
   "cell_type": "code",
   "execution_count": null,
   "metadata": {
    "collapsed": true
   },
   "outputs": [],
   "source": [
    "plt.plot(estimators, forest_scores)"
   ]
  },
  {
   "cell_type": "markdown",
   "metadata": {},
   "source": [
    "# Метод ближайших соседей и кросс-валидация\n",
    "\n",
    "Будем решать ту же задачу методом ближайших соседей. Нам понадобится KNeighborsClassifier из sklearn.neighbors. Основной параметр здесь - количество соседей (n_neighbors), поэтому нам нужно подобрать именно его."
   ]
  },
  {
   "cell_type": "code",
   "execution_count": null,
   "metadata": {
    "collapsed": true
   },
   "outputs": [],
   "source": [
    "# import\n",
    "\n",
    "# начнем перебор\n",
    "n_neighbors = list(range(1, 10))\n",
    "neighbors_scores = []\n",
    "for n in n_neighbors:\n",
    "    # обучаем, добавляем score в neighbors_score\n",
    "\n",
    "# При каком количестве соседей получается наилучший результат?\n"
   ]
  },
  {
   "cell_type": "markdown",
   "metadata": {},
   "source": [
    "И снова график"
   ]
  },
  {
   "cell_type": "code",
   "execution_count": null,
   "metadata": {
    "collapsed": true
   },
   "outputs": [],
   "source": [
    "plt.plot(n_neighbors, neighbors_scores)"
   ]
  },
  {
   "cell_type": "markdown",
   "metadata": {},
   "source": [
    "Какой классификатор для данной задачи оказался лучше: дерево, лес или метод ближайших соседей?"
   ]
  },
  {
   "cell_type": "code",
   "execution_count": null,
   "metadata": {
    "collapsed": true
   },
   "outputs": [],
   "source": [
    "#"
   ]
  },
  {
   "cell_type": "markdown",
   "metadata": {},
   "source": [
    "### Кросс-валидация\n",
    "\n",
    "Разбейте исходную выборку на матрицу признаков Х и вектор-столбец целевой переменной у."
   ]
  },
  {
   "cell_type": "code",
   "execution_count": null,
   "metadata": {
    "collapsed": true
   },
   "outputs": [],
   "source": [
    "X = \n",
    "y = "
   ]
  },
  {
   "cell_type": "markdown",
   "metadata": {},
   "source": [
    "Создадим генератор разбиений, который разобьет нашу выборку на 4 части. Параметр random_state выставьте равным вашему варианту. Снова будем подбирать оптимальное количество соседей. В презентации было сказано, что один из минусов данного метода - скорость работы. Самое время в этом убедиться."
   ]
  },
  {
   "cell_type": "code",
   "execution_count": null,
   "metadata": {
    "collapsed": true
   },
   "outputs": [],
   "source": [
    "from sklearn.model_selection import KFold, cross_val_score\n",
    "kfold = KFold(n_splits=4, shuffle=True, random_state=) # создаем генератор разбиений\n",
    "\n",
    "kfold_scores = []\n",
    "# будем подбирать оптимальное количество соседей\n",
    "for n in n_neighbors:\n",
    "    # создать объект классификатора с n_neighbors=n\n",
    "    kn_clf = \n",
    "    current_score = cross_val_score(kn_clf, X, y, cv=kfold).mean() # берем средний score из всех подвыборок генератора разбиений\n",
    "    # добавить текущее значение score в список kfold_scores\n",
    "    \n",
    "# Какое количество соседей дает наибольшую точность? Какое значение точности получилось? \n",
    "# Чему лучше верить: точности, посчитанной на отложенной выборке или полученной на кросс-валидации?\n"
   ]
  },
  {
   "cell_type": "markdown",
   "metadata": {},
   "source": [
    "Еще один график"
   ]
  },
  {
   "cell_type": "code",
   "execution_count": null,
   "metadata": {
    "collapsed": true
   },
   "outputs": [],
   "source": [
    "plt.plot(n_neighbors, kfold_scores)"
   ]
  },
  {
   "cell_type": "markdown",
   "metadata": {},
   "source": [
    "Часто ненормированные признаки вносят искажения в модель, поскольку расстояние между двумя объектами по одному признаку может быть значительно больше, чем по другому. Попробуем метод ближайших соседей на нормированной выборке."
   ]
  },
  {
   "cell_type": "code",
   "execution_count": null,
   "metadata": {
    "collapsed": true
   },
   "outputs": [],
   "source": [
    "from sklearn.preprocessing import scale\n",
    "X_scaled = scale(X) # нормируем\n",
    "\n",
    "# Подберем оптимальное количество соседей\n",
    "scaled_scores = []\n",
    "for n in n_neighbors:\n",
    "    # запишите тело цикла по аналогии с предыдущим пунктом\n",
    "\n",
    "\n",
    "# Стоит ли нормировать признаки?\n"
   ]
  },
  {
   "cell_type": "markdown",
   "metadata": {},
   "source": [
    "И наконец решим, какой классификатор лучше всего подходит к нашей задаче:"
   ]
  },
  {
   "cell_type": "code",
   "execution_count": null,
   "metadata": {
    "collapsed": true
   },
   "outputs": [],
   "source": [
    "clfs = ['Дерево решений', 'Случайный лес', 'Ближайшие соседи', 'Соседи с нормировкой']\n",
    "vals = [max(scores), max(forest_scores), max(kfold_scores), max(scaled_scores)]\n",
    "inds = list(range(len(clfs)))\n",
    "\n",
    "plt.bar(inds, vals)\n",
    "plt.xticks(inds, clfs)\n",
    "plt.grid()"
   ]
  }
 ],
 "metadata": {
  "kernelspec": {
   "display_name": "Python 3",
   "language": "python",
   "name": "python3"
  },
  "language_info": {
   "codemirror_mode": {
    "name": "ipython",
    "version": 3
   },
   "file_extension": ".py",
   "mimetype": "text/x-python",
   "name": "python",
   "nbconvert_exporter": "python",
   "pygments_lexer": "ipython3",
   "version": "3.6.1"
  }
 },
 "nbformat": 4,
 "nbformat_minor": 2
}
